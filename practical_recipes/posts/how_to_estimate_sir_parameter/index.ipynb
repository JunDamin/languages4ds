{
  "cells": [
    {
      "cell_type": "raw",
      "metadata": {},
      "source": [
        "---\n",
        "title: 베이지안 통계를 활용한 SIR모델 파라미터 추정하기 with Julia\n",
        "date: '2022-11-15'\n",
        "cagetory:\n",
        "  - julia\n",
        "  - bayesian\n",
        "  - statistics\n",
        "  - tutorial\n",
        "output: true\n",
        "warning: false\n",
        "code-fold: true\n",
        "image: sir_model.png\n",
        "draft: true\n",
        "---"
      ],
      "id": "cb0ff62f"
    },
    {
      "cell_type": "markdown",
      "metadata": {},
      "source": [
        "## 데이터 준비하기\n",
        "\n",
        "이제 \n"
      ],
      "id": "ded2cf90"
    },
    {
      "cell_type": "code",
      "metadata": {},
      "source": [
        "using Downloads, DataFrames, CSV, Chain, Dates\n",
        "\n",
        "url = \"https://covid.ourworldindata.org/data/owid-covid-data.csv\"\n",
        "file = Downloads.download(url)\n",
        "df = CSV.File(file) |> DataFrame"
      ],
      "id": "f5d3713c",
      "execution_count": null,
      "outputs": []
    },
    {
      "cell_type": "code",
      "metadata": {},
      "source": [
        "kor = @chain df begin\n",
        "    filter([:iso_code] => (iso_code) -> iso_code == \"KOR\", _)\n",
        "end;"
      ],
      "id": "3030b2a9",
      "execution_count": null,
      "outputs": []
    },
    {
      "cell_type": "code",
      "metadata": {},
      "source": [
        "first(kor, 5)"
      ],
      "id": "6fd6a63e",
      "execution_count": null,
      "outputs": []
    },
    {
      "cell_type": "code",
      "metadata": {},
      "source": [
        "last(kor, 5)"
      ],
      "id": "940f4df4",
      "execution_count": null,
      "outputs": []
    },
    {
      "cell_type": "code",
      "metadata": {},
      "source": [
        "using Plots, StatsPlots, LaTeXStrings\n",
        "\n",
        "@df kor plot(:date,\n",
        "    :new_cases,\n",
        "    xlab=L\"t\", ylab=\"infected daily\",\n",
        "    yformatter=y -> string(round(Int64, y ÷ 1_000)) * \"K\",\n",
        "    label=false)"
      ],
      "id": "5dee8704",
      "execution_count": null,
      "outputs": []
    },
    {
      "cell_type": "code",
      "metadata": {},
      "source": [
        "function NegativeBinomial2(μ, phi)\n",
        "    p = 1 / (1 + μ / phi)\n",
        "    r = phi\n",
        "\n",
        "    return NegativeBinomial(r, p)\n",
        "end"
      ],
      "id": "402d1014",
      "execution_count": null,
      "outputs": []
    },
    {
      "cell_type": "code",
      "metadata": {},
      "source": [
        "using DifferentialEquations\n",
        "\n",
        "function sir_ode!(du, u, p, t)\n",
        "    (S, I, R) = u\n",
        "    (β, γ) = p\n",
        "    N = S + I + R    # N은 전체 인원입니다.\n",
        "    infection = β * I * S / N \n",
        "    recovery = γ * I\n",
        "    @inbounds begin\n",
        "        du[1] = -infection # u의 첫번째 아이템의 전미분인 미감염자의 비율입니다.\n",
        "        du[2] = infection - recovery # Infected\n",
        "        du[3] = recovery # Recovered\n",
        "    end\n",
        "    nothing\n",
        "end;"
      ],
      "id": "6dca775e",
      "execution_count": null,
      "outputs": []
    },
    {
      "cell_type": "code",
      "metadata": {},
      "source": [
        "using Turing\n",
        "using LazyArrays\n",
        "using Random: seed!\n",
        "\n",
        "seed!(123)\n",
        "\n",
        "@model function bayes_sir(infected, i_, r_, N)\n",
        "    #calculate number of timepoints\n",
        "    l = length(infected)\n",
        "\n",
        "    #priors\n",
        "    β ~ TruncatedNormal(2, 1, 1e-4, 10)     # using 10 because numerical issues arose\n",
        "    γ ~ TruncatedNormal(0.4, 0.5, 1e-4, 10) # using 10 because numerical issues arose\n",
        "    phi_ ~ truncated(Exponential(5); lower=0, upper=1e5)\n",
        "    phi = 1.0 / phi_\n",
        "\n",
        "    #ODE Stuff\n",
        "    I = i_\n",
        "    u0 = [N - I, I, r_] # S,I,R\n",
        "    p = [β, γ]\n",
        "    tspan = (1.0, float(l))\n",
        "    prob = ODEProblem(sir_ode!,\n",
        "        u0,\n",
        "        tspan,\n",
        "        p)\n",
        "    sol = solve(prob,\n",
        "        Tsit5(), # similar to Dormand-Prince RK45 in Stan but 20% faster\n",
        "        saveat=1.0)\n",
        "    sol_ = Array(sol)[2, :] # New Infected\n",
        "    sol_ = max.(1e-4, sol_) # numerical issues arose\n",
        "\n",
        "    #likelihood\n",
        "    infected ~ arraydist(LazyArray(@~ NegativeBinomial2.(sol_, phi)))\n",
        "end;"
      ],
      "id": "b35a0840",
      "execution_count": null,
      "outputs": []
    },
    {
      "cell_type": "code",
      "metadata": {},
      "source": [
        "infected = kor[:, :new_cases]\n",
        "r_ = 0\n",
        "i_ = 1\n",
        "N = maximum(kor[:, :population])\n",
        "model_sir = bayes_sir(infected, i_, r_, N)\n",
        "chain_sir = sample(model_sir, NUTS(), 1_000)\n",
        "summarystats(chain_sir[[:β, :γ]])"
      ],
      "id": "6042318f",
      "execution_count": null,
      "outputs": []
    }
  ],
  "metadata": {
    "kernelspec": {
      "name": "julia-1.8",
      "language": "julia",
      "display_name": "Julia 1.8.1"
    }
  },
  "nbformat": 4,
  "nbformat_minor": 5
}